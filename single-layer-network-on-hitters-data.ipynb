{
 "cells": [
  {
   "cell_type": "markdown",
   "id": "152e0400",
   "metadata": {},
   "source": [
    "# 10.9.1Single Layer Network on Hitters Data\n",
    "\n",
    "The primary goal of this project is to develop a robust machine learning model that can accurately predict the salaries of baseball players based on their performance statistics and their overall career data.By analyzing various factors that contribute to a player's salary,the model will provide valuable insights into the dynamics of player valuation within professional baseball.The project seeks to address the challange of predicting salaries in a field where numerous performance metrics and historical data influence player earnings."
   ]
  },
  {
   "cell_type": "markdown",
   "id": "9d67a687",
   "metadata": {},
   "source": [
    "## LOADING LIBRARIES\n",
    "We are loading the necessary libraries for data analysis, modeling, and visualization. These libraries will be used for data processing, model training, and evaluation."
   ]
  },
  {
   "cell_type": "code",
   "execution_count": 17,
   "id": "bf886666",
   "metadata": {
    "execution": {
     "iopub.execute_input": "2024-09-29T20:05:15.897816Z",
     "iopub.status.busy": "2024-09-29T20:05:15.897192Z",
     "iopub.status.idle": "2024-09-29T20:05:28.046978Z",
     "shell.execute_reply": "2024-09-29T20:05:28.045405Z",
     "shell.execute_reply.started": "2024-09-29T20:05:15.897767Z"
    }
   },
   "outputs": [
    {
     "name": "stdout",
     "output_type": "stream",
     "text": [
      "Requirement already satisfied: ISLP in /opt/conda/lib/python3.10/site-packages (0.4.0)\n",
      "Requirement already satisfied: numpy>=1.7.1 in /opt/conda/lib/python3.10/site-packages (from ISLP) (1.26.4)\n",
      "Requirement already satisfied: scipy>=0.9 in /opt/conda/lib/python3.10/site-packages (from ISLP) (1.11.4)\n",
      "Requirement already satisfied: pandas>=0.20 in /opt/conda/lib/python3.10/site-packages (from ISLP) (2.2.2)\n",
      "Requirement already satisfied: lxml in /opt/conda/lib/python3.10/site-packages (from ISLP) (5.3.0)\n",
      "Requirement already satisfied: scikit-learn>=1.2 in /opt/conda/lib/python3.10/site-packages (from ISLP) (1.2.2)\n",
      "Requirement already satisfied: joblib in /opt/conda/lib/python3.10/site-packages (from ISLP) (1.4.2)\n",
      "Requirement already satisfied: statsmodels>=0.13 in /opt/conda/lib/python3.10/site-packages (from ISLP) (0.14.2)\n",
      "Requirement already satisfied: lifelines in /opt/conda/lib/python3.10/site-packages (from ISLP) (0.29.0)\n",
      "Requirement already satisfied: pygam in /opt/conda/lib/python3.10/site-packages (from ISLP) (0.9.1)\n",
      "Requirement already satisfied: torch in /opt/conda/lib/python3.10/site-packages (from ISLP) (2.4.0+cpu)\n",
      "Requirement already satisfied: pytorch-lightning in /opt/conda/lib/python3.10/site-packages (from ISLP) (2.4.0)\n",
      "Requirement already satisfied: torchmetrics in /opt/conda/lib/python3.10/site-packages (from ISLP) (1.4.2)\n",
      "Requirement already satisfied: python-dateutil>=2.8.2 in /opt/conda/lib/python3.10/site-packages (from pandas>=0.20->ISLP) (2.9.0.post0)\n",
      "Requirement already satisfied: pytz>=2020.1 in /opt/conda/lib/python3.10/site-packages (from pandas>=0.20->ISLP) (2024.1)\n",
      "Requirement already satisfied: tzdata>=2022.7 in /opt/conda/lib/python3.10/site-packages (from pandas>=0.20->ISLP) (2024.1)\n",
      "Requirement already satisfied: threadpoolctl>=2.0.0 in /opt/conda/lib/python3.10/site-packages (from scikit-learn>=1.2->ISLP) (3.5.0)\n",
      "Requirement already satisfied: patsy>=0.5.6 in /opt/conda/lib/python3.10/site-packages (from statsmodels>=0.13->ISLP) (0.5.6)\n",
      "Requirement already satisfied: packaging>=21.3 in /opt/conda/lib/python3.10/site-packages (from statsmodels>=0.13->ISLP) (21.3)\n",
      "Requirement already satisfied: matplotlib>=3.0 in /opt/conda/lib/python3.10/site-packages (from lifelines->ISLP) (3.7.5)\n",
      "Requirement already satisfied: autograd>=1.5 in /opt/conda/lib/python3.10/site-packages (from lifelines->ISLP) (1.7.0)\n",
      "Requirement already satisfied: autograd-gamma>=0.3 in /opt/conda/lib/python3.10/site-packages (from lifelines->ISLP) (0.5.0)\n",
      "Requirement already satisfied: formulaic>=0.2.2 in /opt/conda/lib/python3.10/site-packages (from lifelines->ISLP) (1.0.2)\n",
      "Requirement already satisfied: progressbar2<5.0.0,>=4.2.0 in /opt/conda/lib/python3.10/site-packages (from pygam->ISLP) (4.5.0)\n",
      "Requirement already satisfied: tqdm>=4.57.0 in /opt/conda/lib/python3.10/site-packages (from pytorch-lightning->ISLP) (4.66.4)\n",
      "Requirement already satisfied: PyYAML>=5.4 in /opt/conda/lib/python3.10/site-packages (from pytorch-lightning->ISLP) (6.0.2)\n",
      "Requirement already satisfied: fsspec>=2022.5.0 in /opt/conda/lib/python3.10/site-packages (from fsspec[http]>=2022.5.0->pytorch-lightning->ISLP) (2024.6.1)\n",
      "Requirement already satisfied: typing-extensions>=4.4.0 in /opt/conda/lib/python3.10/site-packages (from pytorch-lightning->ISLP) (4.12.2)\n",
      "Requirement already satisfied: lightning-utilities>=0.10.0 in /opt/conda/lib/python3.10/site-packages (from pytorch-lightning->ISLP) (0.11.7)\n",
      "Requirement already satisfied: filelock in /opt/conda/lib/python3.10/site-packages (from torch->ISLP) (3.15.1)\n",
      "Requirement already satisfied: sympy in /opt/conda/lib/python3.10/site-packages (from torch->ISLP) (1.12)\n",
      "Requirement already satisfied: networkx in /opt/conda/lib/python3.10/site-packages (from torch->ISLP) (3.3)\n",
      "Requirement already satisfied: jinja2 in /opt/conda/lib/python3.10/site-packages (from torch->ISLP) (3.1.4)\n",
      "Requirement already satisfied: interface-meta>=1.2.0 in /opt/conda/lib/python3.10/site-packages (from formulaic>=0.2.2->lifelines->ISLP) (1.3.0)\n",
      "Requirement already satisfied: wrapt>=1.0 in /opt/conda/lib/python3.10/site-packages (from formulaic>=0.2.2->lifelines->ISLP) (1.16.0)\n",
      "Requirement already satisfied: aiohttp!=4.0.0a0,!=4.0.0a1 in /opt/conda/lib/python3.10/site-packages (from fsspec[http]>=2022.5.0->pytorch-lightning->ISLP) (3.9.5)\n",
      "Requirement already satisfied: setuptools in /opt/conda/lib/python3.10/site-packages (from lightning-utilities>=0.10.0->pytorch-lightning->ISLP) (70.0.0)\n",
      "Requirement already satisfied: contourpy>=1.0.1 in /opt/conda/lib/python3.10/site-packages (from matplotlib>=3.0->lifelines->ISLP) (1.2.1)\n",
      "Requirement already satisfied: cycler>=0.10 in /opt/conda/lib/python3.10/site-packages (from matplotlib>=3.0->lifelines->ISLP) (0.12.1)\n",
      "Requirement already satisfied: fonttools>=4.22.0 in /opt/conda/lib/python3.10/site-packages (from matplotlib>=3.0->lifelines->ISLP) (4.53.0)\n",
      "Requirement already satisfied: kiwisolver>=1.0.1 in /opt/conda/lib/python3.10/site-packages (from matplotlib>=3.0->lifelines->ISLP) (1.4.5)\n",
      "Requirement already satisfied: pillow>=6.2.0 in /opt/conda/lib/python3.10/site-packages (from matplotlib>=3.0->lifelines->ISLP) (10.3.0)\n",
      "Requirement already satisfied: pyparsing>=2.3.1 in /opt/conda/lib/python3.10/site-packages (from matplotlib>=3.0->lifelines->ISLP) (3.1.2)\n",
      "Requirement already satisfied: six in /opt/conda/lib/python3.10/site-packages (from patsy>=0.5.6->statsmodels>=0.13->ISLP) (1.16.0)\n",
      "Requirement already satisfied: python-utils>=3.8.1 in /opt/conda/lib/python3.10/site-packages (from progressbar2<5.0.0,>=4.2.0->pygam->ISLP) (3.9.0)\n",
      "Requirement already satisfied: MarkupSafe>=2.0 in /opt/conda/lib/python3.10/site-packages (from jinja2->torch->ISLP) (2.1.5)\n",
      "Requirement already satisfied: mpmath>=0.19 in /opt/conda/lib/python3.10/site-packages (from sympy->torch->ISLP) (1.3.0)\n",
      "Requirement already satisfied: aiosignal>=1.1.2 in /opt/conda/lib/python3.10/site-packages (from aiohttp!=4.0.0a0,!=4.0.0a1->fsspec[http]>=2022.5.0->pytorch-lightning->ISLP) (1.3.1)\n",
      "Requirement already satisfied: attrs>=17.3.0 in /opt/conda/lib/python3.10/site-packages (from aiohttp!=4.0.0a0,!=4.0.0a1->fsspec[http]>=2022.5.0->pytorch-lightning->ISLP) (23.2.0)\n",
      "Requirement already satisfied: frozenlist>=1.1.1 in /opt/conda/lib/python3.10/site-packages (from aiohttp!=4.0.0a0,!=4.0.0a1->fsspec[http]>=2022.5.0->pytorch-lightning->ISLP) (1.4.1)\n",
      "Requirement already satisfied: multidict<7.0,>=4.5 in /opt/conda/lib/python3.10/site-packages (from aiohttp!=4.0.0a0,!=4.0.0a1->fsspec[http]>=2022.5.0->pytorch-lightning->ISLP) (6.0.5)\n",
      "Requirement already satisfied: yarl<2.0,>=1.0 in /opt/conda/lib/python3.10/site-packages (from aiohttp!=4.0.0a0,!=4.0.0a1->fsspec[http]>=2022.5.0->pytorch-lightning->ISLP) (1.9.4)\n",
      "Requirement already satisfied: async-timeout<5.0,>=4.0 in /opt/conda/lib/python3.10/site-packages (from aiohttp!=4.0.0a0,!=4.0.0a1->fsspec[http]>=2022.5.0->pytorch-lightning->ISLP) (4.0.3)\n",
      "Requirement already satisfied: idna>=2.0 in /opt/conda/lib/python3.10/site-packages (from yarl<2.0,>=1.0->aiohttp!=4.0.0a0,!=4.0.0a1->fsspec[http]>=2022.5.0->pytorch-lightning->ISLP) (3.7)\n",
      "Note: you may need to restart the kernel to use updated packages.\n"
     ]
    }
   ],
   "source": [
    "pip install ISLP"
   ]
  },
  {
   "cell_type": "code",
   "execution_count": 18,
   "id": "ac5dfa57",
   "metadata": {
    "execution": {
     "iopub.execute_input": "2024-09-29T20:05:28.050015Z",
     "iopub.status.busy": "2024-09-29T20:05:28.049617Z",
     "iopub.status.idle": "2024-09-29T20:05:28.058830Z",
     "shell.execute_reply": "2024-09-29T20:05:28.057494Z",
     "shell.execute_reply.started": "2024-09-29T20:05:28.049973Z"
    }
   },
   "outputs": [],
   "source": [
    "import numpy as np\n",
    "import pandas as pd\n",
    "from ISLP import load_data\n",
    "from sklearn.model_selection import train_test_split\n",
    "from sklearn.preprocessing import StandardScaler\n",
    "from sklearn.metrics import r2_score\n",
    "\n",
    "import tensorflow\n",
    "from tensorflow import keras \n",
    "from keras import Sequential \n",
    "from tensorflow.keras import Model\n",
    "from tensorflow.keras.layers import Flatten, Dense, Dropout\n",
    "\n",
    "import matplotlib.pyplot as plt\n",
    "from sklearn.linear_model import \\\n",
    "     (LinearRegression,\n",
    "      LogisticRegression,\n",
    "      Lasso)"
   ]
  },
  {
   "cell_type": "markdown",
   "id": "fe4a1193",
   "metadata": {},
   "source": [
    "### Loading Data"
   ]
  },
  {
   "cell_type": "code",
   "execution_count": 19,
   "id": "e7347cb7",
   "metadata": {
    "execution": {
     "iopub.execute_input": "2024-09-29T20:05:28.061245Z",
     "iopub.status.busy": "2024-09-29T20:05:28.060729Z",
     "iopub.status.idle": "2024-09-29T20:05:28.081959Z",
     "shell.execute_reply": "2024-09-29T20:05:28.080780Z",
     "shell.execute_reply.started": "2024-09-29T20:05:28.061162Z"
    }
   },
   "outputs": [],
   "source": [
    "df = load_data('Hitters').dropna()\n",
    "n = df.shape[0]"
   ]
  },
  {
   "cell_type": "code",
   "execution_count": 20,
   "id": "5c344c1c",
   "metadata": {
    "execution": {
     "iopub.execute_input": "2024-09-29T20:05:28.084149Z",
     "iopub.status.busy": "2024-09-29T20:05:28.083736Z",
     "iopub.status.idle": "2024-09-29T20:05:28.107783Z",
     "shell.execute_reply": "2024-09-29T20:05:28.106632Z",
     "shell.execute_reply.started": "2024-09-29T20:05:28.084109Z"
    }
   },
   "outputs": [
    {
     "data": {
      "text/html": [
       "<div>\n",
       "<style scoped>\n",
       "    .dataframe tbody tr th:only-of-type {\n",
       "        vertical-align: middle;\n",
       "    }\n",
       "\n",
       "    .dataframe tbody tr th {\n",
       "        vertical-align: top;\n",
       "    }\n",
       "\n",
       "    .dataframe thead th {\n",
       "        text-align: right;\n",
       "    }\n",
       "</style>\n",
       "<table border=\"1\" class=\"dataframe\">\n",
       "  <thead>\n",
       "    <tr style=\"text-align: right;\">\n",
       "      <th></th>\n",
       "      <th>AtBat</th>\n",
       "      <th>Hits</th>\n",
       "      <th>HmRun</th>\n",
       "      <th>Runs</th>\n",
       "      <th>RBI</th>\n",
       "      <th>Walks</th>\n",
       "      <th>Years</th>\n",
       "      <th>CAtBat</th>\n",
       "      <th>CHits</th>\n",
       "      <th>CHmRun</th>\n",
       "      <th>CRuns</th>\n",
       "      <th>CRBI</th>\n",
       "      <th>CWalks</th>\n",
       "      <th>League</th>\n",
       "      <th>Division</th>\n",
       "      <th>PutOuts</th>\n",
       "      <th>Assists</th>\n",
       "      <th>Errors</th>\n",
       "      <th>Salary</th>\n",
       "      <th>NewLeague</th>\n",
       "    </tr>\n",
       "  </thead>\n",
       "  <tbody>\n",
       "    <tr>\n",
       "      <th>1</th>\n",
       "      <td>315</td>\n",
       "      <td>81</td>\n",
       "      <td>7</td>\n",
       "      <td>24</td>\n",
       "      <td>38</td>\n",
       "      <td>39</td>\n",
       "      <td>14</td>\n",
       "      <td>3449</td>\n",
       "      <td>835</td>\n",
       "      <td>69</td>\n",
       "      <td>321</td>\n",
       "      <td>414</td>\n",
       "      <td>375</td>\n",
       "      <td>N</td>\n",
       "      <td>W</td>\n",
       "      <td>632</td>\n",
       "      <td>43</td>\n",
       "      <td>10</td>\n",
       "      <td>475.0</td>\n",
       "      <td>N</td>\n",
       "    </tr>\n",
       "    <tr>\n",
       "      <th>2</th>\n",
       "      <td>479</td>\n",
       "      <td>130</td>\n",
       "      <td>18</td>\n",
       "      <td>66</td>\n",
       "      <td>72</td>\n",
       "      <td>76</td>\n",
       "      <td>3</td>\n",
       "      <td>1624</td>\n",
       "      <td>457</td>\n",
       "      <td>63</td>\n",
       "      <td>224</td>\n",
       "      <td>266</td>\n",
       "      <td>263</td>\n",
       "      <td>A</td>\n",
       "      <td>W</td>\n",
       "      <td>880</td>\n",
       "      <td>82</td>\n",
       "      <td>14</td>\n",
       "      <td>480.0</td>\n",
       "      <td>A</td>\n",
       "    </tr>\n",
       "    <tr>\n",
       "      <th>3</th>\n",
       "      <td>496</td>\n",
       "      <td>141</td>\n",
       "      <td>20</td>\n",
       "      <td>65</td>\n",
       "      <td>78</td>\n",
       "      <td>37</td>\n",
       "      <td>11</td>\n",
       "      <td>5628</td>\n",
       "      <td>1575</td>\n",
       "      <td>225</td>\n",
       "      <td>828</td>\n",
       "      <td>838</td>\n",
       "      <td>354</td>\n",
       "      <td>N</td>\n",
       "      <td>E</td>\n",
       "      <td>200</td>\n",
       "      <td>11</td>\n",
       "      <td>3</td>\n",
       "      <td>500.0</td>\n",
       "      <td>N</td>\n",
       "    </tr>\n",
       "    <tr>\n",
       "      <th>4</th>\n",
       "      <td>321</td>\n",
       "      <td>87</td>\n",
       "      <td>10</td>\n",
       "      <td>39</td>\n",
       "      <td>42</td>\n",
       "      <td>30</td>\n",
       "      <td>2</td>\n",
       "      <td>396</td>\n",
       "      <td>101</td>\n",
       "      <td>12</td>\n",
       "      <td>48</td>\n",
       "      <td>46</td>\n",
       "      <td>33</td>\n",
       "      <td>N</td>\n",
       "      <td>E</td>\n",
       "      <td>805</td>\n",
       "      <td>40</td>\n",
       "      <td>4</td>\n",
       "      <td>91.5</td>\n",
       "      <td>N</td>\n",
       "    </tr>\n",
       "    <tr>\n",
       "      <th>5</th>\n",
       "      <td>594</td>\n",
       "      <td>169</td>\n",
       "      <td>4</td>\n",
       "      <td>74</td>\n",
       "      <td>51</td>\n",
       "      <td>35</td>\n",
       "      <td>11</td>\n",
       "      <td>4408</td>\n",
       "      <td>1133</td>\n",
       "      <td>19</td>\n",
       "      <td>501</td>\n",
       "      <td>336</td>\n",
       "      <td>194</td>\n",
       "      <td>A</td>\n",
       "      <td>W</td>\n",
       "      <td>282</td>\n",
       "      <td>421</td>\n",
       "      <td>25</td>\n",
       "      <td>750.0</td>\n",
       "      <td>A</td>\n",
       "    </tr>\n",
       "  </tbody>\n",
       "</table>\n",
       "</div>"
      ],
      "text/plain": [
       "   AtBat  Hits  HmRun  Runs  RBI  Walks  Years  CAtBat  CHits  CHmRun  CRuns  \\\n",
       "1    315    81      7    24   38     39     14    3449    835      69    321   \n",
       "2    479   130     18    66   72     76      3    1624    457      63    224   \n",
       "3    496   141     20    65   78     37     11    5628   1575     225    828   \n",
       "4    321    87     10    39   42     30      2     396    101      12     48   \n",
       "5    594   169      4    74   51     35     11    4408   1133      19    501   \n",
       "\n",
       "   CRBI  CWalks League Division  PutOuts  Assists  Errors  Salary NewLeague  \n",
       "1   414     375      N        W      632       43      10   475.0         N  \n",
       "2   266     263      A        W      880       82      14   480.0         A  \n",
       "3   838     354      N        E      200       11       3   500.0         N  \n",
       "4    46      33      N        E      805       40       4    91.5         N  \n",
       "5   336     194      A        W      282      421      25   750.0         A  "
      ]
     },
     "execution_count": 20,
     "metadata": {},
     "output_type": "execute_result"
    }
   ],
   "source": [
    "df.head()\n"
   ]
  },
  {
   "cell_type": "markdown",
   "id": "a52d3823",
   "metadata": {},
   "source": [
    "In this dataset, several variables such as League, Division, and NewLeague are categorical. These variables play a significant role in the analysis; however, regression models require numerical input to operate correctly. Using categorical variables in their original form could lead to errors or misinterpretations, as regression models cannot process non-numerical data effectively.\n",
    "\n",
    "To address this issue, I am transforming the categorical variables into a binary format using One-Hot Encoding. This technique converts each category into a unique numerical representation (0 or 1), which allows the regression model to interpret these variables properly. By doing so, I ensure that the model can utilize all the variables appropriately during the analysis."
   ]
  },
  {
   "cell_type": "code",
   "execution_count": 21,
   "id": "c386a442",
   "metadata": {
    "execution": {
     "iopub.execute_input": "2024-09-29T20:05:28.112242Z",
     "iopub.status.busy": "2024-09-29T20:05:28.110958Z",
     "iopub.status.idle": "2024-09-29T20:05:28.143523Z",
     "shell.execute_reply": "2024-09-29T20:05:28.142393Z",
     "shell.execute_reply.started": "2024-09-29T20:05:28.112193Z"
    }
   },
   "outputs": [
    {
     "data": {
      "text/html": [
       "<div>\n",
       "<style scoped>\n",
       "    .dataframe tbody tr th:only-of-type {\n",
       "        vertical-align: middle;\n",
       "    }\n",
       "\n",
       "    .dataframe tbody tr th {\n",
       "        vertical-align: top;\n",
       "    }\n",
       "\n",
       "    .dataframe thead th {\n",
       "        text-align: right;\n",
       "    }\n",
       "</style>\n",
       "<table border=\"1\" class=\"dataframe\">\n",
       "  <thead>\n",
       "    <tr style=\"text-align: right;\">\n",
       "      <th></th>\n",
       "      <th>AtBat</th>\n",
       "      <th>Hits</th>\n",
       "      <th>HmRun</th>\n",
       "      <th>Runs</th>\n",
       "      <th>RBI</th>\n",
       "      <th>Walks</th>\n",
       "      <th>Years</th>\n",
       "      <th>CAtBat</th>\n",
       "      <th>CHits</th>\n",
       "      <th>CHmRun</th>\n",
       "      <th>...</th>\n",
       "      <th>PutOuts</th>\n",
       "      <th>Assists</th>\n",
       "      <th>Errors</th>\n",
       "      <th>Salary</th>\n",
       "      <th>League_A</th>\n",
       "      <th>League_N</th>\n",
       "      <th>Division_E</th>\n",
       "      <th>Division_W</th>\n",
       "      <th>NewLeague_A</th>\n",
       "      <th>NewLeague_N</th>\n",
       "    </tr>\n",
       "  </thead>\n",
       "  <tbody>\n",
       "    <tr>\n",
       "      <th>1</th>\n",
       "      <td>315</td>\n",
       "      <td>81</td>\n",
       "      <td>7</td>\n",
       "      <td>24</td>\n",
       "      <td>38</td>\n",
       "      <td>39</td>\n",
       "      <td>14</td>\n",
       "      <td>3449</td>\n",
       "      <td>835</td>\n",
       "      <td>69</td>\n",
       "      <td>...</td>\n",
       "      <td>632</td>\n",
       "      <td>43</td>\n",
       "      <td>10</td>\n",
       "      <td>475.0</td>\n",
       "      <td>False</td>\n",
       "      <td>True</td>\n",
       "      <td>False</td>\n",
       "      <td>True</td>\n",
       "      <td>False</td>\n",
       "      <td>True</td>\n",
       "    </tr>\n",
       "    <tr>\n",
       "      <th>2</th>\n",
       "      <td>479</td>\n",
       "      <td>130</td>\n",
       "      <td>18</td>\n",
       "      <td>66</td>\n",
       "      <td>72</td>\n",
       "      <td>76</td>\n",
       "      <td>3</td>\n",
       "      <td>1624</td>\n",
       "      <td>457</td>\n",
       "      <td>63</td>\n",
       "      <td>...</td>\n",
       "      <td>880</td>\n",
       "      <td>82</td>\n",
       "      <td>14</td>\n",
       "      <td>480.0</td>\n",
       "      <td>True</td>\n",
       "      <td>False</td>\n",
       "      <td>False</td>\n",
       "      <td>True</td>\n",
       "      <td>True</td>\n",
       "      <td>False</td>\n",
       "    </tr>\n",
       "    <tr>\n",
       "      <th>3</th>\n",
       "      <td>496</td>\n",
       "      <td>141</td>\n",
       "      <td>20</td>\n",
       "      <td>65</td>\n",
       "      <td>78</td>\n",
       "      <td>37</td>\n",
       "      <td>11</td>\n",
       "      <td>5628</td>\n",
       "      <td>1575</td>\n",
       "      <td>225</td>\n",
       "      <td>...</td>\n",
       "      <td>200</td>\n",
       "      <td>11</td>\n",
       "      <td>3</td>\n",
       "      <td>500.0</td>\n",
       "      <td>False</td>\n",
       "      <td>True</td>\n",
       "      <td>True</td>\n",
       "      <td>False</td>\n",
       "      <td>False</td>\n",
       "      <td>True</td>\n",
       "    </tr>\n",
       "    <tr>\n",
       "      <th>4</th>\n",
       "      <td>321</td>\n",
       "      <td>87</td>\n",
       "      <td>10</td>\n",
       "      <td>39</td>\n",
       "      <td>42</td>\n",
       "      <td>30</td>\n",
       "      <td>2</td>\n",
       "      <td>396</td>\n",
       "      <td>101</td>\n",
       "      <td>12</td>\n",
       "      <td>...</td>\n",
       "      <td>805</td>\n",
       "      <td>40</td>\n",
       "      <td>4</td>\n",
       "      <td>91.5</td>\n",
       "      <td>False</td>\n",
       "      <td>True</td>\n",
       "      <td>True</td>\n",
       "      <td>False</td>\n",
       "      <td>False</td>\n",
       "      <td>True</td>\n",
       "    </tr>\n",
       "    <tr>\n",
       "      <th>5</th>\n",
       "      <td>594</td>\n",
       "      <td>169</td>\n",
       "      <td>4</td>\n",
       "      <td>74</td>\n",
       "      <td>51</td>\n",
       "      <td>35</td>\n",
       "      <td>11</td>\n",
       "      <td>4408</td>\n",
       "      <td>1133</td>\n",
       "      <td>19</td>\n",
       "      <td>...</td>\n",
       "      <td>282</td>\n",
       "      <td>421</td>\n",
       "      <td>25</td>\n",
       "      <td>750.0</td>\n",
       "      <td>True</td>\n",
       "      <td>False</td>\n",
       "      <td>False</td>\n",
       "      <td>True</td>\n",
       "      <td>True</td>\n",
       "      <td>False</td>\n",
       "    </tr>\n",
       "  </tbody>\n",
       "</table>\n",
       "<p>5 rows × 23 columns</p>\n",
       "</div>"
      ],
      "text/plain": [
       "   AtBat  Hits  HmRun  Runs  RBI  Walks  Years  CAtBat  CHits  CHmRun  ...  \\\n",
       "1    315    81      7    24   38     39     14    3449    835      69  ...   \n",
       "2    479   130     18    66   72     76      3    1624    457      63  ...   \n",
       "3    496   141     20    65   78     37     11    5628   1575     225  ...   \n",
       "4    321    87     10    39   42     30      2     396    101      12  ...   \n",
       "5    594   169      4    74   51     35     11    4408   1133      19  ...   \n",
       "\n",
       "   PutOuts  Assists  Errors  Salary  League_A  League_N  Division_E  \\\n",
       "1      632       43      10   475.0     False      True       False   \n",
       "2      880       82      14   480.0      True     False       False   \n",
       "3      200       11       3   500.0     False      True        True   \n",
       "4      805       40       4    91.5     False      True        True   \n",
       "5      282      421      25   750.0      True     False       False   \n",
       "\n",
       "   Division_W  NewLeague_A  NewLeague_N  \n",
       "1        True        False         True  \n",
       "2        True         True        False  \n",
       "3       False        False         True  \n",
       "4       False        False         True  \n",
       "5        True         True        False  \n",
       "\n",
       "[5 rows x 23 columns]"
      ]
     },
     "execution_count": 21,
     "metadata": {},
     "output_type": "execute_result"
    }
   ],
   "source": [
    "df=pd.get_dummies(df,columns=[\"League\",\"Division\",'NewLeague'])\n",
    "df.head()"
   ]
  },
  {
   "cell_type": "markdown",
   "id": "3e1e1939",
   "metadata": {},
   "source": [
    "### Split the selected independent feature and target variable "
   ]
  },
  {
   "cell_type": "code",
   "execution_count": 22,
   "id": "9df8681e",
   "metadata": {
    "execution": {
     "iopub.execute_input": "2024-09-29T20:05:28.145408Z",
     "iopub.status.busy": "2024-09-29T20:05:28.144918Z",
     "iopub.status.idle": "2024-09-29T20:05:28.151763Z",
     "shell.execute_reply": "2024-09-29T20:05:28.150399Z",
     "shell.execute_reply.started": "2024-09-29T20:05:28.145348Z"
    }
   },
   "outputs": [],
   "source": [
    "X=df.drop(columns=['Salary'])\n",
    "y=df['Salary']"
   ]
  },
  {
   "cell_type": "code",
   "execution_count": 23,
   "id": "dd0fcdb6",
   "metadata": {
    "execution": {
     "iopub.execute_input": "2024-09-29T20:05:28.153672Z",
     "iopub.status.busy": "2024-09-29T20:05:28.153264Z",
     "iopub.status.idle": "2024-09-29T20:05:28.185575Z",
     "shell.execute_reply": "2024-09-29T20:05:28.184362Z",
     "shell.execute_reply.started": "2024-09-29T20:05:28.153622Z"
    }
   },
   "outputs": [
    {
     "data": {
      "text/html": [
       "<div>\n",
       "<style scoped>\n",
       "    .dataframe tbody tr th:only-of-type {\n",
       "        vertical-align: middle;\n",
       "    }\n",
       "\n",
       "    .dataframe tbody tr th {\n",
       "        vertical-align: top;\n",
       "    }\n",
       "\n",
       "    .dataframe thead th {\n",
       "        text-align: right;\n",
       "    }\n",
       "</style>\n",
       "<table border=\"1\" class=\"dataframe\">\n",
       "  <thead>\n",
       "    <tr style=\"text-align: right;\">\n",
       "      <th></th>\n",
       "      <th>AtBat</th>\n",
       "      <th>Hits</th>\n",
       "      <th>HmRun</th>\n",
       "      <th>Runs</th>\n",
       "      <th>RBI</th>\n",
       "      <th>Walks</th>\n",
       "      <th>Years</th>\n",
       "      <th>CAtBat</th>\n",
       "      <th>CHits</th>\n",
       "      <th>CHmRun</th>\n",
       "      <th>...</th>\n",
       "      <th>CWalks</th>\n",
       "      <th>PutOuts</th>\n",
       "      <th>Assists</th>\n",
       "      <th>Errors</th>\n",
       "      <th>League_A</th>\n",
       "      <th>League_N</th>\n",
       "      <th>Division_E</th>\n",
       "      <th>Division_W</th>\n",
       "      <th>NewLeague_A</th>\n",
       "      <th>NewLeague_N</th>\n",
       "    </tr>\n",
       "  </thead>\n",
       "  <tbody>\n",
       "    <tr>\n",
       "      <th>1</th>\n",
       "      <td>315</td>\n",
       "      <td>81</td>\n",
       "      <td>7</td>\n",
       "      <td>24</td>\n",
       "      <td>38</td>\n",
       "      <td>39</td>\n",
       "      <td>14</td>\n",
       "      <td>3449</td>\n",
       "      <td>835</td>\n",
       "      <td>69</td>\n",
       "      <td>...</td>\n",
       "      <td>375</td>\n",
       "      <td>632</td>\n",
       "      <td>43</td>\n",
       "      <td>10</td>\n",
       "      <td>False</td>\n",
       "      <td>True</td>\n",
       "      <td>False</td>\n",
       "      <td>True</td>\n",
       "      <td>False</td>\n",
       "      <td>True</td>\n",
       "    </tr>\n",
       "    <tr>\n",
       "      <th>2</th>\n",
       "      <td>479</td>\n",
       "      <td>130</td>\n",
       "      <td>18</td>\n",
       "      <td>66</td>\n",
       "      <td>72</td>\n",
       "      <td>76</td>\n",
       "      <td>3</td>\n",
       "      <td>1624</td>\n",
       "      <td>457</td>\n",
       "      <td>63</td>\n",
       "      <td>...</td>\n",
       "      <td>263</td>\n",
       "      <td>880</td>\n",
       "      <td>82</td>\n",
       "      <td>14</td>\n",
       "      <td>True</td>\n",
       "      <td>False</td>\n",
       "      <td>False</td>\n",
       "      <td>True</td>\n",
       "      <td>True</td>\n",
       "      <td>False</td>\n",
       "    </tr>\n",
       "    <tr>\n",
       "      <th>3</th>\n",
       "      <td>496</td>\n",
       "      <td>141</td>\n",
       "      <td>20</td>\n",
       "      <td>65</td>\n",
       "      <td>78</td>\n",
       "      <td>37</td>\n",
       "      <td>11</td>\n",
       "      <td>5628</td>\n",
       "      <td>1575</td>\n",
       "      <td>225</td>\n",
       "      <td>...</td>\n",
       "      <td>354</td>\n",
       "      <td>200</td>\n",
       "      <td>11</td>\n",
       "      <td>3</td>\n",
       "      <td>False</td>\n",
       "      <td>True</td>\n",
       "      <td>True</td>\n",
       "      <td>False</td>\n",
       "      <td>False</td>\n",
       "      <td>True</td>\n",
       "    </tr>\n",
       "    <tr>\n",
       "      <th>4</th>\n",
       "      <td>321</td>\n",
       "      <td>87</td>\n",
       "      <td>10</td>\n",
       "      <td>39</td>\n",
       "      <td>42</td>\n",
       "      <td>30</td>\n",
       "      <td>2</td>\n",
       "      <td>396</td>\n",
       "      <td>101</td>\n",
       "      <td>12</td>\n",
       "      <td>...</td>\n",
       "      <td>33</td>\n",
       "      <td>805</td>\n",
       "      <td>40</td>\n",
       "      <td>4</td>\n",
       "      <td>False</td>\n",
       "      <td>True</td>\n",
       "      <td>True</td>\n",
       "      <td>False</td>\n",
       "      <td>False</td>\n",
       "      <td>True</td>\n",
       "    </tr>\n",
       "    <tr>\n",
       "      <th>5</th>\n",
       "      <td>594</td>\n",
       "      <td>169</td>\n",
       "      <td>4</td>\n",
       "      <td>74</td>\n",
       "      <td>51</td>\n",
       "      <td>35</td>\n",
       "      <td>11</td>\n",
       "      <td>4408</td>\n",
       "      <td>1133</td>\n",
       "      <td>19</td>\n",
       "      <td>...</td>\n",
       "      <td>194</td>\n",
       "      <td>282</td>\n",
       "      <td>421</td>\n",
       "      <td>25</td>\n",
       "      <td>True</td>\n",
       "      <td>False</td>\n",
       "      <td>False</td>\n",
       "      <td>True</td>\n",
       "      <td>True</td>\n",
       "      <td>False</td>\n",
       "    </tr>\n",
       "    <tr>\n",
       "      <th>...</th>\n",
       "      <td>...</td>\n",
       "      <td>...</td>\n",
       "      <td>...</td>\n",
       "      <td>...</td>\n",
       "      <td>...</td>\n",
       "      <td>...</td>\n",
       "      <td>...</td>\n",
       "      <td>...</td>\n",
       "      <td>...</td>\n",
       "      <td>...</td>\n",
       "      <td>...</td>\n",
       "      <td>...</td>\n",
       "      <td>...</td>\n",
       "      <td>...</td>\n",
       "      <td>...</td>\n",
       "      <td>...</td>\n",
       "      <td>...</td>\n",
       "      <td>...</td>\n",
       "      <td>...</td>\n",
       "      <td>...</td>\n",
       "      <td>...</td>\n",
       "    </tr>\n",
       "    <tr>\n",
       "      <th>317</th>\n",
       "      <td>497</td>\n",
       "      <td>127</td>\n",
       "      <td>7</td>\n",
       "      <td>65</td>\n",
       "      <td>48</td>\n",
       "      <td>37</td>\n",
       "      <td>5</td>\n",
       "      <td>2703</td>\n",
       "      <td>806</td>\n",
       "      <td>32</td>\n",
       "      <td>...</td>\n",
       "      <td>138</td>\n",
       "      <td>325</td>\n",
       "      <td>9</td>\n",
       "      <td>3</td>\n",
       "      <td>False</td>\n",
       "      <td>True</td>\n",
       "      <td>True</td>\n",
       "      <td>False</td>\n",
       "      <td>False</td>\n",
       "      <td>True</td>\n",
       "    </tr>\n",
       "    <tr>\n",
       "      <th>318</th>\n",
       "      <td>492</td>\n",
       "      <td>136</td>\n",
       "      <td>5</td>\n",
       "      <td>76</td>\n",
       "      <td>50</td>\n",
       "      <td>94</td>\n",
       "      <td>12</td>\n",
       "      <td>5511</td>\n",
       "      <td>1511</td>\n",
       "      <td>39</td>\n",
       "      <td>...</td>\n",
       "      <td>875</td>\n",
       "      <td>313</td>\n",
       "      <td>381</td>\n",
       "      <td>20</td>\n",
       "      <td>True</td>\n",
       "      <td>False</td>\n",
       "      <td>True</td>\n",
       "      <td>False</td>\n",
       "      <td>True</td>\n",
       "      <td>False</td>\n",
       "    </tr>\n",
       "    <tr>\n",
       "      <th>319</th>\n",
       "      <td>475</td>\n",
       "      <td>126</td>\n",
       "      <td>3</td>\n",
       "      <td>61</td>\n",
       "      <td>43</td>\n",
       "      <td>52</td>\n",
       "      <td>6</td>\n",
       "      <td>1700</td>\n",
       "      <td>433</td>\n",
       "      <td>7</td>\n",
       "      <td>...</td>\n",
       "      <td>146</td>\n",
       "      <td>37</td>\n",
       "      <td>113</td>\n",
       "      <td>7</td>\n",
       "      <td>True</td>\n",
       "      <td>False</td>\n",
       "      <td>False</td>\n",
       "      <td>True</td>\n",
       "      <td>True</td>\n",
       "      <td>False</td>\n",
       "    </tr>\n",
       "    <tr>\n",
       "      <th>320</th>\n",
       "      <td>573</td>\n",
       "      <td>144</td>\n",
       "      <td>9</td>\n",
       "      <td>85</td>\n",
       "      <td>60</td>\n",
       "      <td>78</td>\n",
       "      <td>8</td>\n",
       "      <td>3198</td>\n",
       "      <td>857</td>\n",
       "      <td>97</td>\n",
       "      <td>...</td>\n",
       "      <td>332</td>\n",
       "      <td>1314</td>\n",
       "      <td>131</td>\n",
       "      <td>12</td>\n",
       "      <td>True</td>\n",
       "      <td>False</td>\n",
       "      <td>True</td>\n",
       "      <td>False</td>\n",
       "      <td>True</td>\n",
       "      <td>False</td>\n",
       "    </tr>\n",
       "    <tr>\n",
       "      <th>321</th>\n",
       "      <td>631</td>\n",
       "      <td>170</td>\n",
       "      <td>9</td>\n",
       "      <td>77</td>\n",
       "      <td>44</td>\n",
       "      <td>31</td>\n",
       "      <td>11</td>\n",
       "      <td>4908</td>\n",
       "      <td>1457</td>\n",
       "      <td>30</td>\n",
       "      <td>...</td>\n",
       "      <td>249</td>\n",
       "      <td>408</td>\n",
       "      <td>4</td>\n",
       "      <td>3</td>\n",
       "      <td>True</td>\n",
       "      <td>False</td>\n",
       "      <td>False</td>\n",
       "      <td>True</td>\n",
       "      <td>True</td>\n",
       "      <td>False</td>\n",
       "    </tr>\n",
       "  </tbody>\n",
       "</table>\n",
       "<p>263 rows × 22 columns</p>\n",
       "</div>"
      ],
      "text/plain": [
       "     AtBat  Hits  HmRun  Runs  RBI  Walks  Years  CAtBat  CHits  CHmRun  ...  \\\n",
       "1      315    81      7    24   38     39     14    3449    835      69  ...   \n",
       "2      479   130     18    66   72     76      3    1624    457      63  ...   \n",
       "3      496   141     20    65   78     37     11    5628   1575     225  ...   \n",
       "4      321    87     10    39   42     30      2     396    101      12  ...   \n",
       "5      594   169      4    74   51     35     11    4408   1133      19  ...   \n",
       "..     ...   ...    ...   ...  ...    ...    ...     ...    ...     ...  ...   \n",
       "317    497   127      7    65   48     37      5    2703    806      32  ...   \n",
       "318    492   136      5    76   50     94     12    5511   1511      39  ...   \n",
       "319    475   126      3    61   43     52      6    1700    433       7  ...   \n",
       "320    573   144      9    85   60     78      8    3198    857      97  ...   \n",
       "321    631   170      9    77   44     31     11    4908   1457      30  ...   \n",
       "\n",
       "     CWalks  PutOuts  Assists  Errors  League_A  League_N  Division_E  \\\n",
       "1       375      632       43      10     False      True       False   \n",
       "2       263      880       82      14      True     False       False   \n",
       "3       354      200       11       3     False      True        True   \n",
       "4        33      805       40       4     False      True        True   \n",
       "5       194      282      421      25      True     False       False   \n",
       "..      ...      ...      ...     ...       ...       ...         ...   \n",
       "317     138      325        9       3     False      True        True   \n",
       "318     875      313      381      20      True     False        True   \n",
       "319     146       37      113       7      True     False       False   \n",
       "320     332     1314      131      12      True     False        True   \n",
       "321     249      408        4       3      True     False       False   \n",
       "\n",
       "     Division_W  NewLeague_A  NewLeague_N  \n",
       "1          True        False         True  \n",
       "2          True         True        False  \n",
       "3         False        False         True  \n",
       "4         False        False         True  \n",
       "5          True         True        False  \n",
       "..          ...          ...          ...  \n",
       "317       False        False         True  \n",
       "318       False         True        False  \n",
       "319        True         True        False  \n",
       "320       False         True        False  \n",
       "321        True         True        False  \n",
       "\n",
       "[263 rows x 22 columns]"
      ]
     },
     "execution_count": 23,
     "metadata": {},
     "output_type": "execute_result"
    }
   ],
   "source": [
    "X"
   ]
  },
  {
   "cell_type": "code",
   "execution_count": 24,
   "id": "3dbdf82b",
   "metadata": {
    "execution": {
     "iopub.execute_input": "2024-09-29T20:05:28.187783Z",
     "iopub.status.busy": "2024-09-29T20:05:28.187263Z",
     "iopub.status.idle": "2024-09-29T20:05:28.205125Z",
     "shell.execute_reply": "2024-09-29T20:05:28.203655Z",
     "shell.execute_reply.started": "2024-09-29T20:05:28.187728Z"
    }
   },
   "outputs": [
    {
     "data": {
      "text/plain": [
       "1       475.0\n",
       "2       480.0\n",
       "3       500.0\n",
       "4        91.5\n",
       "5       750.0\n",
       "        ...  \n",
       "317     700.0\n",
       "318     875.0\n",
       "319     385.0\n",
       "320     960.0\n",
       "321    1000.0\n",
       "Name: Salary, Length: 263, dtype: float64"
      ]
     },
     "execution_count": 24,
     "metadata": {},
     "output_type": "execute_result"
    }
   ],
   "source": [
    "y"
   ]
  },
  {
   "cell_type": "markdown",
   "id": "43a194de",
   "metadata": {},
   "source": [
    "### Train test split:\n",
    "splits your dataset into two parts: training data and test data."
   ]
  },
  {
   "cell_type": "code",
   "execution_count": 25,
   "id": "497587ed",
   "metadata": {
    "execution": {
     "iopub.execute_input": "2024-09-29T20:05:28.207999Z",
     "iopub.status.busy": "2024-09-29T20:05:28.207630Z",
     "iopub.status.idle": "2024-09-29T20:05:28.225800Z",
     "shell.execute_reply": "2024-09-29T20:05:28.224228Z",
     "shell.execute_reply.started": "2024-09-29T20:05:28.207963Z"
    }
   },
   "outputs": [],
   "source": [
    "X_train,X_test,y_train,y_test=train_test_split(X,y,test_size=0.2,random_state=1)\n"
   ]
  },
  {
   "cell_type": "code",
   "execution_count": 26,
   "id": "78e55ce3",
   "metadata": {
    "execution": {
     "iopub.execute_input": "2024-09-29T20:05:28.229032Z",
     "iopub.status.busy": "2024-09-29T20:05:28.228015Z",
     "iopub.status.idle": "2024-09-29T20:05:28.243626Z",
     "shell.execute_reply": "2024-09-29T20:05:28.242206Z",
     "shell.execute_reply.started": "2024-09-29T20:05:28.228966Z"
    }
   },
   "outputs": [
    {
     "name": "stdout",
     "output_type": "stream",
     "text": [
      "(53, 22)\n",
      "(210, 22)\n",
      "(53,)\n",
      "(210,)\n"
     ]
    }
   ],
   "source": [
    "print(X_test.shape)\n",
    "print(X_train.shape)\n",
    "print(y_test.shape)\n",
    "print(y_train.shape)"
   ]
  },
  {
   "cell_type": "markdown",
   "id": "d5cb41e7",
   "metadata": {},
   "source": [
    "### Normalize the Data\n",
    "\n",
    "In dataset, the variables I’m analyzing have different ranges. For example, the number of times at bat (AtBat) or the number of hits (Hits) can be in the hundreds, while the number of errors (Errors) might be much smaller. If I don’t normalize the data, the regression model could give more weight to variables with larger ranges, simply because their values are higher. This could lead to biased results and reduce the accuracy of my predictions.\n",
    "\n",
    "By normalizing the data, I bring all the variables onto a similar scale, typically between 0 and 1. This process ensures that each variable contributes equally to the model, regardless of its original range. As a result, the model can more accurately identify the relationships between the variables and the target variable, which in my case is the player’s salary during the 1986-1987 season.\n",
    "\n",
    "Normalization is a key step to prevent any one feature from disproportionately influencing the model, and it ultimately leads to more reliable and interpretable results in my analysis."
   ]
  },
  {
   "cell_type": "code",
   "execution_count": 27,
   "id": "4fcb6c6b",
   "metadata": {
    "execution": {
     "iopub.execute_input": "2024-09-29T20:05:28.245563Z",
     "iopub.status.busy": "2024-09-29T20:05:28.245129Z",
     "iopub.status.idle": "2024-09-29T20:05:28.264894Z",
     "shell.execute_reply": "2024-09-29T20:05:28.263230Z",
     "shell.execute_reply.started": "2024-09-29T20:05:28.245516Z"
    }
   },
   "outputs": [],
   "source": [
    "# Import the StandardScaler class from the sklearn.preprocessing module\n",
    "from sklearn.preprocessing import StandardScaler\n",
    "\n",
    "# Create an instance of the StandardScaler class\n",
    "Scaler = StandardScaler()\n",
    "\n",
    "# Scale the training data using the fit_transform method\n",
    "# This method scales the data to have a mean of 0 and a standard deviation of 1\n",
    "X_train_scaled = Scaler.fit_transform(X_train)\n",
    "\n",
    "# Scale the test data using the transform method\n",
    "# This method scales the data using the same scaling factors as the training data\n",
    "X_test_scaled = Scaler.transform(X_test)"
   ]
  },
  {
   "cell_type": "markdown",
   "id": "dcc03279",
   "metadata": {},
   "source": [
    "## Linear Models\n",
    "We fit the linear model and evaluate the test error directly."
   ]
  },
  {
   "cell_type": "code",
   "execution_count": 29,
   "id": "36c1a985",
   "metadata": {
    "execution": {
     "iopub.execute_input": "2024-09-29T20:06:25.065458Z",
     "iopub.status.busy": "2024-09-29T20:06:25.064976Z",
     "iopub.status.idle": "2024-09-29T20:06:25.078684Z",
     "shell.execute_reply": "2024-09-29T20:06:25.077466Z",
     "shell.execute_reply.started": "2024-09-29T20:06:25.065415Z"
    }
   },
   "outputs": [
    {
     "name": "stdout",
     "output_type": "stream",
     "text": [
      "Mean Absolute Error: 268.32\n",
      "R2 Score:  0.4166986480172825\n"
     ]
    }
   ],
   "source": [
    "# Create an instance of the LinearRegression class\n",
    "lin_reg = LinearRegression()\n",
    "\n",
    "# Train the linear regression model on the training data\n",
    "# X_train is the feature matrix and y_train is the target vector\n",
    "lin_reg.fit(X_train_scaled, y_train)\n",
    "\n",
    "# Use the trained model to make predictions on the test data\n",
    "# X_test is the feature matrix for the test data\n",
    "Yhat_test = lin_reg.predict(X_test_scaled)\n",
    "\n",
    "# Calculate the mean absolute error (MAE) of the predictions\n",
    "# np.abs calculates the absolute difference between the predicted and actual values\n",
    "# .mean calculates the mean of the absolute differences\n",
    "mae_linear = np.abs(Yhat_test - y_test).mean()\n",
    "\n",
    "# Print the mean absolute error\n",
    "print(f'Mean Absolute Error: {mae_linear:.2f}')\n",
    "R2Score_linear=r2_score(y_test,Yhat_test)\n",
    "print(\"R2 Score: \",R2Score_linear)"
   ]
  },
  {
   "cell_type": "markdown",
   "id": "bb69675d",
   "metadata": {},
   "source": [
    "# Lasso Regression model "
   ]
  },
  {
   "cell_type": "code",
   "execution_count": 31,
   "id": "b5e1eba5",
   "metadata": {
    "execution": {
     "iopub.execute_input": "2024-09-29T20:06:44.397612Z",
     "iopub.status.busy": "2024-09-29T20:06:44.396976Z",
     "iopub.status.idle": "2024-09-29T20:06:44.421114Z",
     "shell.execute_reply": "2024-09-29T20:06:44.417044Z",
     "shell.execute_reply.started": "2024-09-29T20:06:44.397554Z"
    }
   },
   "outputs": [
    {
     "name": "stdout",
     "output_type": "stream",
     "text": [
      "Mean Absolute Error: 263.72\n",
      "MSLE Score: 0.66\n",
      "R2 Score:  0.4388682580161326\n"
     ]
    }
   ],
   "source": [
    "# Define a custom scoring function to evaluate the model's performance\n",
    "# This function calculates the mean squared logarithmic error (MSLE) between the predicted and actual values\n",
    "def score(y_pred, y_true):\n",
    "    # Calculate the MSLE\n",
    "    error = np.square(np.log10(y_pred + 1) - np.log10(y_true + 1)).mean() ** 0.5\n",
    "    # Calculate the score as 1 - error\n",
    "    score = 1 - error\n",
    "    return score\n",
    "\n",
    "# Import the Lasso class from the sklearn.linear_model module\n",
    "from sklearn.linear_model import Lasso\n",
    "\n",
    "# Create an instance of the Lasso class\n",
    "lasso_reg = Lasso()\n",
    "\n",
    "# Train the Lasso regression model on the scaled training data\n",
    "lasso_reg.fit(X_train_scaled, y_train)\n",
    "\n",
    "# Use the trained model to make predictions on the scaled test data\n",
    "Yhat_test_lasso = lasso_reg.predict(X_test_scaled)\n",
    "\n",
    "# Calculate the mean absolute error (MAE) between the predicted and actual values\n",
    "mae_lasso = np.fabs(Yhat_test_lasso - y_test).mean()\n",
    "\n",
    "# Calculate the score using the custom scoring function\n",
    "score_value = score(Yhat_test_lasso, y_test)\n",
    "\n",
    "# Print the MAE and score\n",
    "print(f'Mean Absolute Error: {mae_lasso:.2f}')\n",
    "print(f'MSLE Score: {score_value:.2f}')\n",
    "R2Score_lasso=r2_score(y_test,Yhat_test_lasso)\n",
    "print(\"R2 Score: \",R2Score_lasso)"
   ]
  },
  {
   "cell_type": "markdown",
   "id": "79861f28",
   "metadata": {},
   "source": [
    "### Conclusion and Observations:\n",
    "\n",
    "In this report, we evaluated the performance of two regression models, Linear Regression and Lasso Regression, on a given dataset. The models were trained on the scaled training data and their performance was evaluated on the scaled test data.\n",
    "\n",
    "Key Findings:\n",
    "\n",
    "Mean Absolute Error (MAE): The Linear Regression model achieved a MAE of 268.32, while the Lasso Regression model achieved a MAE of 263.72. This indicates that the Lasso Regression model performed slightly better than the Linear Regression model in terms of absolute error.\n",
    "Model Performance: The Lasso Regression model outperformed the Linear Regression model, suggesting that the L1 regularization used in Lasso Regression helped to reduce overfitting and improve the model's generalization ability."
   ]
  },
  {
   "cell_type": "markdown",
   "id": "98dc2621",
   "metadata": {},
   "source": [
    "## Specifying a Network: Classes and Inheritance\n"
   ]
  },
  {
   "cell_type": "markdown",
   "id": "d6263c92",
   "metadata": {},
   "source": [
    "**Neural Network Model Evaluation**\n",
    "\n",
    "In this section, we will evaluate the performance of a Neural Network (NN) model on the same dataset."
   ]
  },
  {
   "cell_type": "markdown",
   "id": "d9fe672c",
   "metadata": {},
   "source": [
    "**Neural Network Architecture**\n",
    "\n",
    "The Neural Network architecture used in this study is a simple feedforward network with four layers: an input layer, a hidden layer, a dropout layer, and an output layer.\n",
    "\n",
    "**Input Layer**\n",
    "\n",
    "The input layer has a shape of (X.shape[1],) which is the number of features in the dataset.\n",
    "The input layer is responsible for receiving the input data and passing it to the next layer.\n",
    "The Flatten layer is used to flatten the input data into a 1D array.\n",
    "\n",
    "**Hidden Layer**\n",
    "\n",
    "The hidden layer has 50 units (neurons) with a ReLU (Rectified Linear Unit) activation function.\n",
    "The ReLU activation function is used to introduce non-linearity into the model, allowing it to learn more complex relationships between the input features and the output.\n",
    "The hidden layer is responsible for learning the representations of the input data.\n",
    "\n",
    "**Dropout Layer**\n",
    "\n",
    "The dropout layer has a dropout rate of 0.4, which means that 40% of the neurons in the hidden layer will be randomly dropped during training.\n",
    "The dropout layer is used to prevent overfitting by reducing the capacity of the model.\n",
    "\n",
    "**Output Layer**\n",
    "\n",
    "The output layer has 1 unit (neuron) with a linear activation function.\n",
    "The output layer is responsible for making predictions based on the representations learned by the hidden layer.\n",
    "The linear activation function is used because the output is a continuous value."
   ]
  },
  {
   "cell_type": "code",
   "execution_count": 33,
   "id": "8b5be1b4",
   "metadata": {
    "execution": {
     "iopub.execute_input": "2024-09-29T20:06:59.111512Z",
     "iopub.status.busy": "2024-09-29T20:06:59.110992Z",
     "iopub.status.idle": "2024-09-29T20:06:59.171830Z",
     "shell.execute_reply": "2024-09-29T20:06:59.170303Z",
     "shell.execute_reply.started": "2024-09-29T20:06:59.111456Z"
    }
   },
   "outputs": [
    {
     "name": "stderr",
     "output_type": "stream",
     "text": [
      "/opt/conda/lib/python3.10/site-packages/keras/src/layers/reshaping/flatten.py:37: UserWarning: Do not pass an `input_shape`/`input_dim` argument to a layer. When using Sequential models, prefer using an `Input(shape)` object as the first layer in the model instead.\n",
      "  super().__init__(**kwargs)\n"
     ]
    },
    {
     "data": {
      "text/html": [
       "<pre style=\"white-space:pre;overflow-x:auto;line-height:normal;font-family:Menlo,'DejaVu Sans Mono',consolas,'Courier New',monospace\"><span style=\"font-weight: bold\">Model: \"sequential_1\"</span>\n",
       "</pre>\n"
      ],
      "text/plain": [
       "\u001b[1mModel: \"sequential_1\"\u001b[0m\n"
      ]
     },
     "metadata": {},
     "output_type": "display_data"
    },
    {
     "data": {
      "text/html": [
       "<pre style=\"white-space:pre;overflow-x:auto;line-height:normal;font-family:Menlo,'DejaVu Sans Mono',consolas,'Courier New',monospace\">┏━━━━━━━━━━━━━━━━━━━━━━━━━━━━━━━━━┳━━━━━━━━━━━━━━━━━━━━━━━━┳━━━━━━━━━━━━━━━┓\n",
       "┃<span style=\"font-weight: bold\"> Layer (type)                    </span>┃<span style=\"font-weight: bold\"> Output Shape           </span>┃<span style=\"font-weight: bold\">       Param # </span>┃\n",
       "┡━━━━━━━━━━━━━━━━━━━━━━━━━━━━━━━━━╇━━━━━━━━━━━━━━━━━━━━━━━━╇━━━━━━━━━━━━━━━┩\n",
       "│ flatten_1 (<span style=\"color: #0087ff; text-decoration-color: #0087ff\">Flatten</span>)             │ (<span style=\"color: #00d7ff; text-decoration-color: #00d7ff\">None</span>, <span style=\"color: #00af00; text-decoration-color: #00af00\">22</span>)             │             <span style=\"color: #00af00; text-decoration-color: #00af00\">0</span> │\n",
       "├─────────────────────────────────┼────────────────────────┼───────────────┤\n",
       "│ dense_2 (<span style=\"color: #0087ff; text-decoration-color: #0087ff\">Dense</span>)                 │ (<span style=\"color: #00d7ff; text-decoration-color: #00d7ff\">None</span>, <span style=\"color: #00af00; text-decoration-color: #00af00\">50</span>)             │         <span style=\"color: #00af00; text-decoration-color: #00af00\">1,150</span> │\n",
       "├─────────────────────────────────┼────────────────────────┼───────────────┤\n",
       "│ dropout_1 (<span style=\"color: #0087ff; text-decoration-color: #0087ff\">Dropout</span>)             │ (<span style=\"color: #00d7ff; text-decoration-color: #00d7ff\">None</span>, <span style=\"color: #00af00; text-decoration-color: #00af00\">50</span>)             │             <span style=\"color: #00af00; text-decoration-color: #00af00\">0</span> │\n",
       "├─────────────────────────────────┼────────────────────────┼───────────────┤\n",
       "│ dense_3 (<span style=\"color: #0087ff; text-decoration-color: #0087ff\">Dense</span>)                 │ (<span style=\"color: #00d7ff; text-decoration-color: #00d7ff\">None</span>, <span style=\"color: #00af00; text-decoration-color: #00af00\">1</span>)              │            <span style=\"color: #00af00; text-decoration-color: #00af00\">51</span> │\n",
       "└─────────────────────────────────┴────────────────────────┴───────────────┘\n",
       "</pre>\n"
      ],
      "text/plain": [
       "┏━━━━━━━━━━━━━━━━━━━━━━━━━━━━━━━━━┳━━━━━━━━━━━━━━━━━━━━━━━━┳━━━━━━━━━━━━━━━┓\n",
       "┃\u001b[1m \u001b[0m\u001b[1mLayer (type)                   \u001b[0m\u001b[1m \u001b[0m┃\u001b[1m \u001b[0m\u001b[1mOutput Shape          \u001b[0m\u001b[1m \u001b[0m┃\u001b[1m \u001b[0m\u001b[1m      Param #\u001b[0m\u001b[1m \u001b[0m┃\n",
       "┡━━━━━━━━━━━━━━━━━━━━━━━━━━━━━━━━━╇━━━━━━━━━━━━━━━━━━━━━━━━╇━━━━━━━━━━━━━━━┩\n",
       "│ flatten_1 (\u001b[38;5;33mFlatten\u001b[0m)             │ (\u001b[38;5;45mNone\u001b[0m, \u001b[38;5;34m22\u001b[0m)             │             \u001b[38;5;34m0\u001b[0m │\n",
       "├─────────────────────────────────┼────────────────────────┼───────────────┤\n",
       "│ dense_2 (\u001b[38;5;33mDense\u001b[0m)                 │ (\u001b[38;5;45mNone\u001b[0m, \u001b[38;5;34m50\u001b[0m)             │         \u001b[38;5;34m1,150\u001b[0m │\n",
       "├─────────────────────────────────┼────────────────────────┼───────────────┤\n",
       "│ dropout_1 (\u001b[38;5;33mDropout\u001b[0m)             │ (\u001b[38;5;45mNone\u001b[0m, \u001b[38;5;34m50\u001b[0m)             │             \u001b[38;5;34m0\u001b[0m │\n",
       "├─────────────────────────────────┼────────────────────────┼───────────────┤\n",
       "│ dense_3 (\u001b[38;5;33mDense\u001b[0m)                 │ (\u001b[38;5;45mNone\u001b[0m, \u001b[38;5;34m1\u001b[0m)              │            \u001b[38;5;34m51\u001b[0m │\n",
       "└─────────────────────────────────┴────────────────────────┴───────────────┘\n"
      ]
     },
     "metadata": {},
     "output_type": "display_data"
    },
    {
     "data": {
      "text/html": [
       "<pre style=\"white-space:pre;overflow-x:auto;line-height:normal;font-family:Menlo,'DejaVu Sans Mono',consolas,'Courier New',monospace\"><span style=\"font-weight: bold\"> Total params: </span><span style=\"color: #00af00; text-decoration-color: #00af00\">1,201</span> (4.69 KB)\n",
       "</pre>\n"
      ],
      "text/plain": [
       "\u001b[1m Total params: \u001b[0m\u001b[38;5;34m1,201\u001b[0m (4.69 KB)\n"
      ]
     },
     "metadata": {},
     "output_type": "display_data"
    },
    {
     "data": {
      "text/html": [
       "<pre style=\"white-space:pre;overflow-x:auto;line-height:normal;font-family:Menlo,'DejaVu Sans Mono',consolas,'Courier New',monospace\"><span style=\"font-weight: bold\"> Trainable params: </span><span style=\"color: #00af00; text-decoration-color: #00af00\">1,201</span> (4.69 KB)\n",
       "</pre>\n"
      ],
      "text/plain": [
       "\u001b[1m Trainable params: \u001b[0m\u001b[38;5;34m1,201\u001b[0m (4.69 KB)\n"
      ]
     },
     "metadata": {},
     "output_type": "display_data"
    },
    {
     "data": {
      "text/html": [
       "<pre style=\"white-space:pre;overflow-x:auto;line-height:normal;font-family:Menlo,'DejaVu Sans Mono',consolas,'Courier New',monospace\"><span style=\"font-weight: bold\"> Non-trainable params: </span><span style=\"color: #00af00; text-decoration-color: #00af00\">0</span> (0.00 B)\n",
       "</pre>\n"
      ],
      "text/plain": [
       "\u001b[1m Non-trainable params: \u001b[0m\u001b[38;5;34m0\u001b[0m (0.00 B)\n"
      ]
     },
     "metadata": {},
     "output_type": "display_data"
    }
   ],
   "source": [
    "\n",
    "# Convert the input data to float32\n",
    "X_train = X_train.astype(np.float32)\n",
    "X_test = X_test.astype(np.float32)\n",
    "\n",
    "# Define the Neural Network model architecture\n",
    "model = Sequential([\n",
    "    Flatten(input_shape=(X.shape[1],)),\n",
    "    Dense(50, activation='relu'),\n",
    "    Dropout(0.4),\n",
    "    Dense(1,activation='linear')\n",
    "])\n",
    "\n",
    "\n",
    "model.summary()\n",
    "\n"
   ]
  },
  {
   "cell_type": "markdown",
   "id": "a501f1df",
   "metadata": {},
   "source": [
    "### Hyperparameters and Optimizer\n",
    "\n",
    "the following hyperparameters are used:\n",
    "\n",
    "**Loss Function:** mean_absolute_error (MAE) is used as the loss function. This is a common choice for regression problems, as it measures the average difference between the predicted and actual values.\n",
    "\n",
    "**Optimizer:** adam is used as the optimizer. Adam is a popular stochastic gradient descent optimizer that adapts the learning rate for each parameter based on the magnitude of the gradient.\n",
    "\n",
    "**Metrics:** Accuracy is used as a metric to evaluate the model's performance. \n",
    "\n",
    "**Epochs:** The model is trained for 50 epochs. An epoch is a single pass through the entire training dataset. The number of epochs can be adjusted based on the model's performance on the validation set.\n",
    "\n",
    "**Batch Size:** The batch size is set to 32. The batch size determines how many samples are used to compute the gradient of the loss function before updating the model's parameters."
   ]
  },
  {
   "cell_type": "code",
   "execution_count": 34,
   "id": "f5de03d4",
   "metadata": {
    "execution": {
     "iopub.execute_input": "2024-09-29T20:07:02.086423Z",
     "iopub.status.busy": "2024-09-29T20:07:02.085847Z",
     "iopub.status.idle": "2024-09-29T20:07:07.468498Z",
     "shell.execute_reply": "2024-09-29T20:07:07.467302Z",
     "shell.execute_reply.started": "2024-09-29T20:07:02.086370Z"
    }
   },
   "outputs": [
    {
     "name": "stdout",
     "output_type": "stream",
     "text": [
      "Epoch 1/50\n",
      "\u001b[1m7/7\u001b[0m \u001b[32m━━━━━━━━━━━━━━━━━━━━\u001b[0m\u001b[37m\u001b[0m \u001b[1m1s\u001b[0m 38ms/step - Accuracy: 0.0000e+00 - loss: 1218.6610 - val_Accuracy: 0.0000e+00 - val_loss: 886.1459\n",
      "Epoch 2/50\n",
      "\u001b[1m7/7\u001b[0m \u001b[32m━━━━━━━━━━━━━━━━━━━━\u001b[0m\u001b[37m\u001b[0m \u001b[1m0s\u001b[0m 7ms/step - Accuracy: 0.0000e+00 - loss: 863.7114 - val_Accuracy: 0.0000e+00 - val_loss: 700.6729\n",
      "Epoch 3/50\n",
      "\u001b[1m7/7\u001b[0m \u001b[32m━━━━━━━━━━━━━━━━━━━━\u001b[0m\u001b[37m\u001b[0m \u001b[1m0s\u001b[0m 7ms/step - Accuracy: 0.0000e+00 - loss: 634.6406 - val_Accuracy: 0.0000e+00 - val_loss: 521.8334\n",
      "Epoch 4/50\n",
      "\u001b[1m7/7\u001b[0m \u001b[32m━━━━━━━━━━━━━━━━━━━━\u001b[0m\u001b[37m\u001b[0m \u001b[1m0s\u001b[0m 7ms/step - Accuracy: 0.0000e+00 - loss: 478.1163 - val_Accuracy: 0.0000e+00 - val_loss: 369.2603\n",
      "Epoch 5/50\n",
      "\u001b[1m7/7\u001b[0m \u001b[32m━━━━━━━━━━━━━━━━━━━━\u001b[0m\u001b[37m\u001b[0m \u001b[1m0s\u001b[0m 9ms/step - Accuracy: 0.0000e+00 - loss: 407.5829 - val_Accuracy: 0.0000e+00 - val_loss: 281.2319\n",
      "Epoch 6/50\n",
      "\u001b[1m7/7\u001b[0m \u001b[32m━━━━━━━━━━━━━━━━━━━━\u001b[0m\u001b[37m\u001b[0m \u001b[1m0s\u001b[0m 8ms/step - Accuracy: 0.0000e+00 - loss: 295.8593 - val_Accuracy: 0.0000e+00 - val_loss: 241.6435\n",
      "Epoch 7/50\n",
      "\u001b[1m7/7\u001b[0m \u001b[32m━━━━━━━━━━━━━━━━━━━━\u001b[0m\u001b[37m\u001b[0m \u001b[1m0s\u001b[0m 8ms/step - Accuracy: 0.0000e+00 - loss: 348.6312 - val_Accuracy: 0.0000e+00 - val_loss: 231.4349\n",
      "Epoch 8/50\n",
      "\u001b[1m7/7\u001b[0m \u001b[32m━━━━━━━━━━━━━━━━━━━━\u001b[0m\u001b[37m\u001b[0m \u001b[1m0s\u001b[0m 8ms/step - Accuracy: 0.0000e+00 - loss: 331.5577 - val_Accuracy: 0.0000e+00 - val_loss: 228.6933\n",
      "Epoch 9/50\n",
      "\u001b[1m7/7\u001b[0m \u001b[32m━━━━━━━━━━━━━━━━━━━━\u001b[0m\u001b[37m\u001b[0m \u001b[1m0s\u001b[0m 8ms/step - Accuracy: 0.0000e+00 - loss: 308.5097 - val_Accuracy: 0.0000e+00 - val_loss: 227.4310\n",
      "Epoch 10/50\n",
      "\u001b[1m7/7\u001b[0m \u001b[32m━━━━━━━━━━━━━━━━━━━━\u001b[0m\u001b[37m\u001b[0m \u001b[1m0s\u001b[0m 7ms/step - Accuracy: 0.0000e+00 - loss: 326.2509 - val_Accuracy: 0.0000e+00 - val_loss: 226.5779\n",
      "Epoch 11/50\n",
      "\u001b[1m7/7\u001b[0m \u001b[32m━━━━━━━━━━━━━━━━━━━━\u001b[0m\u001b[37m\u001b[0m \u001b[1m0s\u001b[0m 7ms/step - Accuracy: 0.0000e+00 - loss: 366.5840 - val_Accuracy: 0.0000e+00 - val_loss: 226.5394\n",
      "Epoch 12/50\n",
      "\u001b[1m7/7\u001b[0m \u001b[32m━━━━━━━━━━━━━━━━━━━━\u001b[0m\u001b[37m\u001b[0m \u001b[1m0s\u001b[0m 8ms/step - Accuracy: 0.0000e+00 - loss: 275.4377 - val_Accuracy: 0.0000e+00 - val_loss: 226.6798\n",
      "Epoch 13/50\n",
      "\u001b[1m7/7\u001b[0m \u001b[32m━━━━━━━━━━━━━━━━━━━━\u001b[0m\u001b[37m\u001b[0m \u001b[1m0s\u001b[0m 7ms/step - Accuracy: 0.0000e+00 - loss: 305.0797 - val_Accuracy: 0.0000e+00 - val_loss: 226.4719\n",
      "Epoch 14/50\n",
      "\u001b[1m7/7\u001b[0m \u001b[32m━━━━━━━━━━━━━━━━━━━━\u001b[0m\u001b[37m\u001b[0m \u001b[1m0s\u001b[0m 7ms/step - Accuracy: 0.0000e+00 - loss: 262.5898 - val_Accuracy: 0.0000e+00 - val_loss: 226.3886\n",
      "Epoch 15/50\n",
      "\u001b[1m7/7\u001b[0m \u001b[32m━━━━━━━━━━━━━━━━━━━━\u001b[0m\u001b[37m\u001b[0m \u001b[1m0s\u001b[0m 7ms/step - Accuracy: 0.0000e+00 - loss: 300.6886 - val_Accuracy: 0.0000e+00 - val_loss: 228.1310\n",
      "Epoch 16/50\n",
      "\u001b[1m7/7\u001b[0m \u001b[32m━━━━━━━━━━━━━━━━━━━━\u001b[0m\u001b[37m\u001b[0m \u001b[1m0s\u001b[0m 7ms/step - Accuracy: 0.0000e+00 - loss: 263.0500 - val_Accuracy: 0.0000e+00 - val_loss: 225.3171\n",
      "Epoch 17/50\n",
      "\u001b[1m7/7\u001b[0m \u001b[32m━━━━━━━━━━━━━━━━━━━━\u001b[0m\u001b[37m\u001b[0m \u001b[1m0s\u001b[0m 10ms/step - Accuracy: 0.0000e+00 - loss: 227.5254 - val_Accuracy: 0.0000e+00 - val_loss: 221.8770\n",
      "Epoch 18/50\n",
      "\u001b[1m7/7\u001b[0m \u001b[32m━━━━━━━━━━━━━━━━━━━━\u001b[0m\u001b[37m\u001b[0m \u001b[1m0s\u001b[0m 7ms/step - Accuracy: 0.0000e+00 - loss: 317.3741 - val_Accuracy: 0.0000e+00 - val_loss: 219.4467\n",
      "Epoch 19/50\n",
      "\u001b[1m7/7\u001b[0m \u001b[32m━━━━━━━━━━━━━━━━━━━━\u001b[0m\u001b[37m\u001b[0m \u001b[1m0s\u001b[0m 7ms/step - Accuracy: 0.0000e+00 - loss: 233.4112 - val_Accuracy: 0.0000e+00 - val_loss: 218.8464\n",
      "Epoch 20/50\n",
      "\u001b[1m7/7\u001b[0m \u001b[32m━━━━━━━━━━━━━━━━━━━━\u001b[0m\u001b[37m\u001b[0m \u001b[1m0s\u001b[0m 6ms/step - Accuracy: 0.0000e+00 - loss: 262.7096 - val_Accuracy: 0.0000e+00 - val_loss: 218.2129\n",
      "Epoch 21/50\n",
      "\u001b[1m7/7\u001b[0m \u001b[32m━━━━━━━━━━━━━━━━━━━━\u001b[0m\u001b[37m\u001b[0m \u001b[1m0s\u001b[0m 7ms/step - Accuracy: 0.0000e+00 - loss: 267.6055 - val_Accuracy: 0.0000e+00 - val_loss: 219.4702\n",
      "Epoch 22/50\n",
      "\u001b[1m7/7\u001b[0m \u001b[32m━━━━━━━━━━━━━━━━━━━━\u001b[0m\u001b[37m\u001b[0m \u001b[1m0s\u001b[0m 7ms/step - Accuracy: 0.0000e+00 - loss: 295.4445 - val_Accuracy: 0.0000e+00 - val_loss: 220.9735\n",
      "Epoch 23/50\n",
      "\u001b[1m7/7\u001b[0m \u001b[32m━━━━━━━━━━━━━━━━━━━━\u001b[0m\u001b[37m\u001b[0m \u001b[1m0s\u001b[0m 6ms/step - Accuracy: 0.0000e+00 - loss: 293.3756 - val_Accuracy: 0.0000e+00 - val_loss: 219.1153\n",
      "Epoch 24/50\n",
      "\u001b[1m7/7\u001b[0m \u001b[32m━━━━━━━━━━━━━━━━━━━━\u001b[0m\u001b[37m\u001b[0m \u001b[1m0s\u001b[0m 7ms/step - Accuracy: 0.0000e+00 - loss: 241.2937 - val_Accuracy: 0.0000e+00 - val_loss: 218.5325\n",
      "Epoch 25/50\n",
      "\u001b[1m7/7\u001b[0m \u001b[32m━━━━━━━━━━━━━━━━━━━━\u001b[0m\u001b[37m\u001b[0m \u001b[1m0s\u001b[0m 7ms/step - Accuracy: 0.0000e+00 - loss: 247.7640 - val_Accuracy: 0.0000e+00 - val_loss: 216.7660\n",
      "Epoch 26/50\n",
      "\u001b[1m7/7\u001b[0m \u001b[32m━━━━━━━━━━━━━━━━━━━━\u001b[0m\u001b[37m\u001b[0m \u001b[1m0s\u001b[0m 7ms/step - Accuracy: 0.0000e+00 - loss: 243.1531 - val_Accuracy: 0.0000e+00 - val_loss: 215.0181\n",
      "Epoch 27/50\n",
      "\u001b[1m7/7\u001b[0m \u001b[32m━━━━━━━━━━━━━━━━━━━━\u001b[0m\u001b[37m\u001b[0m \u001b[1m0s\u001b[0m 7ms/step - Accuracy: 0.0000e+00 - loss: 276.1073 - val_Accuracy: 0.0000e+00 - val_loss: 214.7853\n",
      "Epoch 28/50\n",
      "\u001b[1m7/7\u001b[0m \u001b[32m━━━━━━━━━━━━━━━━━━━━\u001b[0m\u001b[37m\u001b[0m \u001b[1m0s\u001b[0m 6ms/step - Accuracy: 0.0000e+00 - loss: 220.4374 - val_Accuracy: 0.0000e+00 - val_loss: 216.7316\n",
      "Epoch 29/50\n",
      "\u001b[1m7/7\u001b[0m \u001b[32m━━━━━━━━━━━━━━━━━━━━\u001b[0m\u001b[37m\u001b[0m \u001b[1m0s\u001b[0m 7ms/step - Accuracy: 0.0000e+00 - loss: 266.0941 - val_Accuracy: 0.0000e+00 - val_loss: 219.0871\n",
      "Epoch 30/50\n",
      "\u001b[1m7/7\u001b[0m \u001b[32m━━━━━━━━━━━━━━━━━━━━\u001b[0m\u001b[37m\u001b[0m \u001b[1m0s\u001b[0m 7ms/step - Accuracy: 0.0000e+00 - loss: 281.8199 - val_Accuracy: 0.0000e+00 - val_loss: 217.5577\n",
      "Epoch 31/50\n",
      "\u001b[1m7/7\u001b[0m \u001b[32m━━━━━━━━━━━━━━━━━━━━\u001b[0m\u001b[37m\u001b[0m \u001b[1m0s\u001b[0m 7ms/step - Accuracy: 0.0000e+00 - loss: 238.6548 - val_Accuracy: 0.0000e+00 - val_loss: 214.9099\n",
      "Epoch 32/50\n",
      "\u001b[1m7/7\u001b[0m \u001b[32m━━━━━━━━━━━━━━━━━━━━\u001b[0m\u001b[37m\u001b[0m \u001b[1m0s\u001b[0m 7ms/step - Accuracy: 0.0000e+00 - loss: 221.9719 - val_Accuracy: 0.0000e+00 - val_loss: 213.9606\n",
      "Epoch 33/50\n",
      "\u001b[1m7/7\u001b[0m \u001b[32m━━━━━━━━━━━━━━━━━━━━\u001b[0m\u001b[37m\u001b[0m \u001b[1m0s\u001b[0m 7ms/step - Accuracy: 0.0000e+00 - loss: 212.6432 - val_Accuracy: 0.0000e+00 - val_loss: 214.5158\n",
      "Epoch 34/50\n",
      "\u001b[1m7/7\u001b[0m \u001b[32m━━━━━━━━━━━━━━━━━━━━\u001b[0m\u001b[37m\u001b[0m \u001b[1m0s\u001b[0m 7ms/step - Accuracy: 0.0000e+00 - loss: 206.2133 - val_Accuracy: 0.0000e+00 - val_loss: 216.2010\n",
      "Epoch 35/50\n",
      "\u001b[1m7/7\u001b[0m \u001b[32m━━━━━━━━━━━━━━━━━━━━\u001b[0m\u001b[37m\u001b[0m \u001b[1m0s\u001b[0m 6ms/step - Accuracy: 0.0000e+00 - loss: 260.8344 - val_Accuracy: 0.0000e+00 - val_loss: 218.4707\n",
      "Epoch 36/50\n",
      "\u001b[1m7/7\u001b[0m \u001b[32m━━━━━━━━━━━━━━━━━━━━\u001b[0m\u001b[37m\u001b[0m \u001b[1m0s\u001b[0m 7ms/step - Accuracy: 0.0000e+00 - loss: 213.0956 - val_Accuracy: 0.0000e+00 - val_loss: 220.3363\n",
      "Epoch 37/50\n",
      "\u001b[1m7/7\u001b[0m \u001b[32m━━━━━━━━━━━━━━━━━━━━\u001b[0m\u001b[37m\u001b[0m \u001b[1m0s\u001b[0m 7ms/step - Accuracy: 0.0000e+00 - loss: 247.2991 - val_Accuracy: 0.0000e+00 - val_loss: 215.3390\n",
      "Epoch 38/50\n",
      "\u001b[1m7/7\u001b[0m \u001b[32m━━━━━━━━━━━━━━━━━━━━\u001b[0m\u001b[37m\u001b[0m \u001b[1m0s\u001b[0m 7ms/step - Accuracy: 0.0000e+00 - loss: 236.4722 - val_Accuracy: 0.0000e+00 - val_loss: 213.7937\n",
      "Epoch 39/50\n",
      "\u001b[1m7/7\u001b[0m \u001b[32m━━━━━━━━━━━━━━━━━━━━\u001b[0m\u001b[37m\u001b[0m \u001b[1m0s\u001b[0m 7ms/step - Accuracy: 0.0000e+00 - loss: 230.9275 - val_Accuracy: 0.0000e+00 - val_loss: 213.4625\n",
      "Epoch 40/50\n",
      "\u001b[1m7/7\u001b[0m \u001b[32m━━━━━━━━━━━━━━━━━━━━\u001b[0m\u001b[37m\u001b[0m \u001b[1m0s\u001b[0m 7ms/step - Accuracy: 0.0000e+00 - loss: 227.9521 - val_Accuracy: 0.0000e+00 - val_loss: 213.3737\n",
      "Epoch 41/50\n",
      "\u001b[1m7/7\u001b[0m \u001b[32m━━━━━━━━━━━━━━━━━━━━\u001b[0m\u001b[37m\u001b[0m \u001b[1m0s\u001b[0m 8ms/step - Accuracy: 0.0000e+00 - loss: 233.3329 - val_Accuracy: 0.0000e+00 - val_loss: 213.6512\n",
      "Epoch 42/50\n",
      "\u001b[1m7/7\u001b[0m \u001b[32m━━━━━━━━━━━━━━━━━━━━\u001b[0m\u001b[37m\u001b[0m \u001b[1m0s\u001b[0m 7ms/step - Accuracy: 0.0000e+00 - loss: 216.0068 - val_Accuracy: 0.0000e+00 - val_loss: 215.1454\n",
      "Epoch 43/50\n",
      "\u001b[1m7/7\u001b[0m \u001b[32m━━━━━━━━━━━━━━━━━━━━\u001b[0m\u001b[37m\u001b[0m \u001b[1m0s\u001b[0m 7ms/step - Accuracy: 0.0000e+00 - loss: 231.5898 - val_Accuracy: 0.0000e+00 - val_loss: 216.2984\n",
      "Epoch 44/50\n",
      "\u001b[1m7/7\u001b[0m \u001b[32m━━━━━━━━━━━━━━━━━━━━\u001b[0m\u001b[37m\u001b[0m \u001b[1m0s\u001b[0m 7ms/step - Accuracy: 0.0000e+00 - loss: 241.8049 - val_Accuracy: 0.0000e+00 - val_loss: 216.4359\n",
      "Epoch 45/50\n",
      "\u001b[1m7/7\u001b[0m \u001b[32m━━━━━━━━━━━━━━━━━━━━\u001b[0m\u001b[37m\u001b[0m \u001b[1m0s\u001b[0m 7ms/step - Accuracy: 0.0000e+00 - loss: 201.1683 - val_Accuracy: 0.0000e+00 - val_loss: 213.2923\n",
      "Epoch 46/50\n",
      "\u001b[1m7/7\u001b[0m \u001b[32m━━━━━━━━━━━━━━━━━━━━\u001b[0m\u001b[37m\u001b[0m \u001b[1m0s\u001b[0m 7ms/step - Accuracy: 0.0000e+00 - loss: 228.2944 - val_Accuracy: 0.0000e+00 - val_loss: 212.0559\n",
      "Epoch 47/50\n",
      "\u001b[1m7/7\u001b[0m \u001b[32m━━━━━━━━━━━━━━━━━━━━\u001b[0m\u001b[37m\u001b[0m \u001b[1m0s\u001b[0m 7ms/step - Accuracy: 0.0000e+00 - loss: 214.9176 - val_Accuracy: 0.0000e+00 - val_loss: 214.4637\n",
      "Epoch 48/50\n",
      "\u001b[1m7/7\u001b[0m \u001b[32m━━━━━━━━━━━━━━━━━━━━\u001b[0m\u001b[37m\u001b[0m \u001b[1m0s\u001b[0m 7ms/step - Accuracy: 0.0000e+00 - loss: 232.4344 - val_Accuracy: 0.0000e+00 - val_loss: 214.5315\n",
      "Epoch 49/50\n",
      "\u001b[1m7/7\u001b[0m \u001b[32m━━━━━━━━━━━━━━━━━━━━\u001b[0m\u001b[37m\u001b[0m \u001b[1m0s\u001b[0m 6ms/step - Accuracy: 0.0000e+00 - loss: 221.4458 - val_Accuracy: 0.0000e+00 - val_loss: 213.0435\n",
      "Epoch 50/50\n",
      "\u001b[1m7/7\u001b[0m \u001b[32m━━━━━━━━━━━━━━━━━━━━\u001b[0m\u001b[37m\u001b[0m \u001b[1m0s\u001b[0m 6ms/step - Accuracy: 0.0000e+00 - loss: 219.3129 - val_Accuracy: 0.0000e+00 - val_loss: 212.8383\n",
      "\u001b[1m2/2\u001b[0m \u001b[32m━━━━━━━━━━━━━━━━━━━━\u001b[0m\u001b[37m\u001b[0m \u001b[1m0s\u001b[0m 33ms/step\n"
     ]
    }
   ],
   "source": [
    "# Compile the Neural Network model\n",
    "model.compile(loss='mean_absolute_error', optimizer='adam',metrics=['Accuracy'])\n",
    "\n",
    "# Train the Neural Network model on the scaled training data\n",
    "history=model.fit(X_train, y_train, epochs=50, batch_size=32, validation_data=(X_test, y_test))\n",
    "\n",
    "# Use the trained model to make predictions on the scaled test data\n",
    "y_pred = model.predict(X_test)\n"
   ]
  },
  {
   "cell_type": "code",
   "execution_count": 40,
   "id": "9cceaf15",
   "metadata": {
    "execution": {
     "iopub.execute_input": "2024-09-29T20:08:39.181756Z",
     "iopub.status.busy": "2024-09-29T20:08:39.181258Z",
     "iopub.status.idle": "2024-09-29T20:08:39.433564Z",
     "shell.execute_reply": "2024-09-29T20:08:39.432385Z",
     "shell.execute_reply.started": "2024-09-29T20:08:39.181713Z"
    }
   },
   "outputs": [
    {
     "data": {
      "image/png": "[encoded data removed]",
      "text/plain": [
       "<Figure size 640x480 with 1 Axes>"
      ]
     },
     "metadata": {},
     "output_type": "display_data"
    }
   ],
   "source": [
    "# Plot the training and validation MAE\n",
    "plt.plot(history.history['loss'], label='Training')\n",
    "plt.plot(history.history['val_loss'], label='Validation')\n",
    "plt.xlabel('Epoch')\n",
    "plt.ylabel('MAE')\n",
    "plt.legend()\n",
    "plt.show()\n",
    "\n"
   ]
  },
  {
   "cell_type": "markdown",
   "id": "ab873207",
   "metadata": {},
   "source": [
    "### R-Squared Score for the Model"
   ]
  },
  {
   "cell_type": "code",
   "execution_count": 41,
   "id": "ea17a545",
   "metadata": {
    "execution": {
     "iopub.execute_input": "2024-09-29T20:08:52.633205Z",
     "iopub.status.busy": "2024-09-29T20:08:52.632654Z",
     "iopub.status.idle": "2024-09-29T20:08:52.643710Z",
     "shell.execute_reply": "2024-09-29T20:08:52.641979Z",
     "shell.execute_reply.started": "2024-09-29T20:08:52.633154Z"
    }
   },
   "outputs": [
    {
     "name": "stdout",
     "output_type": "stream",
     "text": [
      "0.5025939555461918\n"
     ]
    }
   ],
   "source": [
    "from sklearn.metrics import r2_score\n",
    "R2_NN=r2_score(y_test,y_pred.flatten())\n",
    "print(R2_NN)"
   ]
  },
  {
   "cell_type": "markdown",
   "id": "522f9ced",
   "metadata": {},
   "source": [
    "\n",
    "\n",
    "**The R-squared score for the model is 0.4338015214150448, which indicates that the model explains approximately 43.38% of the variance in the data. This suggests that the model is a moderate fit to the data, but there is still some room for improvement.**"
   ]
  },
  {
   "cell_type": "markdown",
   "id": "64ff5329",
   "metadata": {},
   "source": [
    "### Calculating MAE"
   ]
  },
  {
   "cell_type": "code",
   "execution_count": 43,
   "id": "650b0b71",
   "metadata": {
    "execution": {
     "iopub.execute_input": "2024-09-29T20:09:16.330679Z",
     "iopub.status.busy": "2024-09-29T20:09:16.329639Z",
     "iopub.status.idle": "2024-09-29T20:09:16.340960Z",
     "shell.execute_reply": "2024-09-29T20:09:16.338906Z",
     "shell.execute_reply.started": "2024-09-29T20:09:16.330616Z"
    }
   },
   "outputs": [
    {
     "name": "stdout",
     "output_type": "stream",
     "text": [
      "MAE: 212.84\n"
     ]
    }
   ],
   "source": [
    "# Evaluate the model\n",
    "mae_NN = np.mean(np.abs(y_test - y_pred.flatten()))\n",
    "print(f'MAE: {mae_NN:.2f}')"
   ]
  },
  {
   "cell_type": "markdown",
   "id": "6f4ae5f2",
   "metadata": {},
   "source": [
    "## Neural Network Model Performance Summary\n",
    "The Neural Network model achieved a mean absolute error (MAE) of 212.50, which is a significant reduction from the previous MAE of Linear Regression and Lasso Regression."
   ]
  },
  {
   "cell_type": "code",
   "execution_count": 45,
   "id": "734b3de6",
   "metadata": {
    "execution": {
     "iopub.execute_input": "2024-09-29T20:09:24.289020Z",
     "iopub.status.busy": "2024-09-29T20:09:24.288493Z",
     "iopub.status.idle": "2024-09-29T20:09:24.302208Z",
     "shell.execute_reply": "2024-09-29T20:09:24.300680Z",
     "shell.execute_reply.started": "2024-09-29T20:09:24.288971Z"
    }
   },
   "outputs": [
    {
     "name": "stdout",
     "output_type": "stream",
     "text": [
      "       Predicted    Actual\n",
      "126   470.978485   500.000\n",
      "13    324.998108   700.000\n",
      "207   564.082764   700.000\n",
      "221   283.888733   210.000\n",
      "68    229.757858   105.000\n",
      "315   291.829712   165.000\n",
      "277   396.431641   475.000\n",
      "212    71.317154    68.000\n",
      "107   879.192078   750.000\n",
      "159   360.451965   200.000\n",
      "219   173.512115   120.000\n",
      "96   1131.328979  1861.460\n",
      "240   447.026825   450.000\n",
      "59    700.663269  1350.000\n",
      "178   789.811157  1000.000\n",
      "51     83.574112    70.000\n",
      "145   708.729187  1008.333\n",
      "5     707.354553   750.000\n",
      "295    45.121925   920.000\n",
      "309   354.818268   160.000\n",
      "294   238.408829   185.000\n",
      "46    248.523087   215.000\n",
      "118   634.450256   535.000\n",
      "226   259.062378   175.000\n",
      "314   191.112122   120.000\n",
      "140   264.693146   165.000\n",
      "84   1001.059387  1900.000\n",
      "238   594.449646   580.000\n",
      "120   860.415955   733.333\n",
      "78    464.743225   325.000\n",
      "321   794.481506  1000.000\n",
      "123   367.240723   400.000\n",
      "33    406.340973   612.500\n",
      "167   337.377289   300.000\n",
      "53    734.759033  1200.000\n",
      "257   431.564819   450.000\n",
      "121   933.156982   200.000\n",
      "229   755.823914  1940.000\n",
      "206   238.955887   150.000\n",
      "115   592.037659   900.000\n",
      "213   138.318130   100.000\n",
      "215   275.423096   175.000\n",
      "293   661.853027   925.000\n",
      "170   881.328979   825.000\n",
      "130   460.186096   750.000\n",
      "108   557.859802  1175.000\n",
      "273   109.963043    90.000\n",
      "133   163.457031    87.500\n",
      "187   550.903259   365.000\n",
      "296   202.721710   286.667\n",
      "40     95.674332    67.500\n",
      "21    163.680847   115.000\n",
      "154   540.318176   277.500\n"
     ]
    }
   ],
   "source": [
    "df2 = pd.DataFrame({\n",
    "    'Predicted': y_pred.flatten(),\n",
    "    'Actual': y_test\n",
    "})\n",
    "\n",
    "# Print the DataFrame\n",
    "print(df2)"
   ]
  },
  {
   "cell_type": "markdown",
   "id": "160914c2",
   "metadata": {},
   "source": [
    "### Comparison with Other Models"
   ]
  },
  {
   "cell_type": "code",
   "execution_count": 46,
   "id": "8665a3a0",
   "metadata": {
    "execution": {
     "iopub.execute_input": "2024-09-29T20:09:27.943844Z",
     "iopub.status.busy": "2024-09-29T20:09:27.943223Z",
     "iopub.status.idle": "2024-09-29T20:09:27.965212Z",
     "shell.execute_reply": "2024-09-29T20:09:27.963731Z",
     "shell.execute_reply.started": "2024-09-29T20:09:27.943788Z"
    }
   },
   "outputs": [
    {
     "data": {
      "text/html": [
       "<div>\n",
       "<style scoped>\n",
       "    .dataframe tbody tr th:only-of-type {\n",
       "        vertical-align: middle;\n",
       "    }\n",
       "\n",
       "    .dataframe tbody tr th {\n",
       "        vertical-align: top;\n",
       "    }\n",
       "\n",
       "    .dataframe thead th {\n",
       "        text-align: right;\n",
       "    }\n",
       "</style>\n",
       "<table border=\"1\" class=\"dataframe\">\n",
       "  <thead>\n",
       "    <tr style=\"text-align: right;\">\n",
       "      <th></th>\n",
       "      <th>Linear Regreesion</th>\n",
       "      <th>lasso Regreesion</th>\n",
       "      <th>Neral Network Regreesion</th>\n",
       "    </tr>\n",
       "  </thead>\n",
       "  <tbody>\n",
       "    <tr>\n",
       "      <th>R2</th>\n",
       "      <td>0.416699</td>\n",
       "      <td>0.438868</td>\n",
       "      <td>0.502594</td>\n",
       "    </tr>\n",
       "    <tr>\n",
       "      <th>mae</th>\n",
       "      <td>268.320816</td>\n",
       "      <td>263.722795</td>\n",
       "      <td>212.838286</td>\n",
       "    </tr>\n",
       "  </tbody>\n",
       "</table>\n",
       "</div>"
      ],
      "text/plain": [
       "     Linear Regreesion  lasso Regreesion  Neral Network Regreesion\n",
       "R2            0.416699          0.438868                  0.502594\n",
       "mae         268.320816        263.722795                212.838286"
      ]
     },
     "execution_count": 46,
     "metadata": {},
     "output_type": "execute_result"
    }
   ],
   "source": [
    "### Comparison with Other Models\n",
    "scores = {\n",
    "\"Linear Regreesion\": {\"R2\" : R2Score_linear,\n",
    "\"mae\" : mae_linear},\n",
    "    \n",
    "\"lasso Regreesion\": {\"R2\" : R2Score_lasso,\n",
    "\"mae\" : mae_lasso },\n",
    "    \n",
    " \"Neral Network Regreesion\": {\"R2\" : R2_NN,\n",
    "\"mae\" : mae_NN }  \n",
    "}\n",
    "Mlr_score=pd.DataFrame(scores)\n",
    "Mlr_score"
   ]
  },
  {
   "cell_type": "markdown",
   "id": "e4a34f78",
   "metadata": {},
   "source": [
    "**Model Comparison**\n",
    "The Neural Network model outperforms both the Linear Regression and Lasso Regression models in terms of R2 score and mean absolute error (MAE).\n",
    "\n",
    "**Key Findings**\n",
    "\n",
    "The Neural Network model has the highest R2 score of 0.502594, indicating that it explains approximately 50.25% of the variance in the data.\n",
    "\n",
    "The Neural Network model has the lowest MAE of 212.838286, indicating that it has the best predictive accuracy among the three models.\n",
    "The Lasso Regression model has a slightly higher R2 score and lower MAE compared to the Linear Regression model, indicating that it is a better performer.\n",
    "\n",
    "## Conclusion\n",
    "In this study, we evaluated the performance of three different models, Linear Regression, Lasso Regression, and Neural Network, on a given dataset. The results show that the Neural Network model performs the best in terms of R2 score and mean absolute error, followed by the Lasso Regression model and then the Linear Regression model. The Neural Network model's complex architecture and ability to learn non-linear relationships contribute to its better performance."
   ]
  },
  {
   "cell_type": "code",
   "execution_count": null,
   "id": "5d273103",
   "metadata": {},
   "outputs": [],
   "source": []
  }
 ],
 "metadata": {
  "hide_input": false,
  "kaggle": {
   "accelerator": "none",
   "dataSources": [],
   "dockerImageVersionId": 30775,
   "isGpuEnabled": false,
   "isInternetEnabled": true,
   "language": "python",
   "sourceType": "notebook"
  },
  "kernelspec": {
   "display_name": "Python 3 (ipykernel)",
   "language": "python",
   "name": "python3"
  },
  "language_info": {
   "codemirror_mode": {
    "name": "ipython",
    "version": 3
   },
   "file_extension": ".py",
   "mimetype": "text/x-python",
   "name": "python",
   "nbconvert_exporter": "python",
   "pygments_lexer": "ipython3",
   "version": "3.11.5"
  }
 },
 "nbformat": 4,
 "nbformat_minor": 5
}
